{
 "cells": [
  {
   "cell_type": "code",
   "execution_count": 167,
   "metadata": {
    "collapsed": true
   },
   "outputs": [],
   "source": [
    "from random import shuffle"
   ]
  },
  {
   "cell_type": "code",
   "execution_count": 168,
   "metadata": {
    "collapsed": true
   },
   "outputs": [],
   "source": [
    "#\n",
    "#  2-stage map-reduce to compute the degree distribution in a graph\n",
    "#\n",
    "\n",
    "#sample edges\n",
    "edges=[('A','B'), ('A','C'),('A','D'),('B','C'),('C','A'),('C','B'),('D','A')]"
   ]
  },
  {
   "cell_type": "code",
   "execution_count": 169,
   "metadata": {
    "collapsed": true
   },
   "outputs": [],
   "source": [
    "#mapper function - ignores value and emits key,1\n",
    "def _map(k,v):\n",
    "    return (k, 1)"
   ]
  },
  {
   "cell_type": "code",
   "execution_count": 170,
   "metadata": {
    "collapsed": true
   },
   "outputs": [],
   "source": [
    "#grouping function to simulate grouping phase in map-reduce\n",
    "def _group(l):\n",
    "    grdict={}\n",
    "    for i in l:\n",
    "        if i[0] in grdict:\n",
    "            grdict[i[0]].append(i[1])\n",
    "        else:\n",
    "            templist = [i[1]]\n",
    "            grdict[i[0]]=templist\n",
    "    return grdict"
   ]
  },
  {
   "cell_type": "code",
   "execution_count": 171,
   "metadata": {
    "collapsed": true
   },
   "outputs": [],
   "source": [
    "#reducer function - sums the values associated with each key\n",
    "def _reduce(k,v):\n",
    "    return (k, sum(v))"
   ]
  },
  {
   "cell_type": "markdown",
   "metadata": {},
   "source": [
    "# Run Map-Reduce Twice"
   ]
  },
  {
   "cell_type": "markdown",
   "metadata": {},
   "source": [
    "## First Execution"
   ]
  },
  {
   "cell_type": "code",
   "execution_count": 172,
   "metadata": {},
   "outputs": [
    {
     "name": "stdout",
     "output_type": "stream",
     "text": [
      "[('B', 1), ('C', 1), ('A', 1), ('A', 1), ('C', 1), ('A', 1), ('D', 1)]\n"
     ]
    }
   ],
   "source": [
    "#Intermediate pairs for first execution\n",
    "interm1=[]\n",
    "\n",
    "#Run mapper for each of the edges\n",
    "for i in edges:#\n",
    "    pair = _map(i[0], i[1])\n",
    "    interm1.append((pair[0],pair[1]))\n",
    "    \n",
    "print interm"
   ]
  },
  {
   "cell_type": "code",
   "execution_count": 173,
   "metadata": {},
   "outputs": [
    {
     "name": "stdout",
     "output_type": "stream",
     "text": [
      "{'A': [1, 1, 1], 'C': [1, 1], 'B': [1], 'D': [1]}\n"
     ]
    }
   ],
   "source": [
    "#Group the intermediate pairs\n",
    "grouped1=_group(interm1)\n",
    "\n",
    "print grouped1"
   ]
  },
  {
   "cell_type": "code",
   "execution_count": 174,
   "metadata": {},
   "outputs": [
    {
     "name": "stdout",
     "output_type": "stream",
     "text": [
      "[('A', 3), ('C', 2), ('B', 1), ('D', 1)]\n"
     ]
    }
   ],
   "source": [
    "#output of the reducer\n",
    "output=[]\n",
    "\n",
    "#Run reducer for the grouped pairs\n",
    "for k,v in grouped1.iteritems():\n",
    "    output.append(_reduce(k,v))\n",
    "    \n",
    "print output"
   ]
  },
  {
   "cell_type": "markdown",
   "metadata": {},
   "source": [
    "## Second Execution"
   ]
  },
  {
   "cell_type": "code",
   "execution_count": 175,
   "metadata": {},
   "outputs": [
    {
     "name": "stdout",
     "output_type": "stream",
     "text": [
      "[(3, 1), (2, 1), (1, 1), (1, 1)]\n"
     ]
    }
   ],
   "source": [
    "interm2=[]\n",
    "\n",
    "#Use output from the previous execution as input\n",
    "for i in output:\n",
    "    #Reverse the order - we want the counts (values) from the previous execution to be the mapper's input key\n",
    "    pair = _map(i[1], i[0])\n",
    "    interm2.append((pair[0],pair[1]))\n",
    "    \n",
    "print interm2"
   ]
  },
  {
   "cell_type": "code",
   "execution_count": 176,
   "metadata": {},
   "outputs": [
    {
     "name": "stdout",
     "output_type": "stream",
     "text": [
      "{1: [1, 1], 2: [1], 3: [1]}\n"
     ]
    }
   ],
   "source": [
    "grouped2=_group(interm2)\n",
    "print grouped2"
   ]
  },
  {
   "cell_type": "code",
   "execution_count": 177,
   "metadata": {},
   "outputs": [
    {
     "name": "stdout",
     "output_type": "stream",
     "text": [
      "[(1, 2), (2, 1), (3, 1)]\n"
     ]
    }
   ],
   "source": [
    "#Final output with the degree distribution\n",
    "final=[]\n",
    "for k,v in grouped2.iteritems():\n",
    "    final.append(_reduce(k,v))\n",
    "\n",
    "print final"
   ]
  },
  {
   "cell_type": "code",
   "execution_count": 178,
   "metadata": {},
   "outputs": [
    {
     "name": "stdout",
     "output_type": "stream",
     "text": [
      "Degree    Count\n",
      "1         2\n",
      "2         1\n",
      "3         1\n"
     ]
    }
   ],
   "source": [
    "#Formatted\n",
    "print 'Degree'.ljust(10) + 'Count'\n",
    "for i in final:\n",
    "    print str(i[0]).ljust(10) + str(i[1])"
   ]
  },
  {
   "cell_type": "code",
   "execution_count": null,
   "metadata": {
    "collapsed": true
   },
   "outputs": [],
   "source": []
  }
 ],
 "metadata": {
  "kernelspec": {
   "display_name": "Python 2",
   "language": "python",
   "name": "python2"
  },
  "language_info": {
   "codemirror_mode": {
    "name": "ipython",
    "version": 2
   },
   "file_extension": ".py",
   "mimetype": "text/x-python",
   "name": "python",
   "nbconvert_exporter": "python",
   "pygments_lexer": "ipython2",
   "version": "2.7.13"
  }
 },
 "nbformat": 4,
 "nbformat_minor": 2
}
