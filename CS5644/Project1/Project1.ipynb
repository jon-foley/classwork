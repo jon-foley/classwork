{
 "cells": [
  {
   "cell_type": "code",
   "execution_count": 16,
   "metadata": {},
   "outputs": [],
   "source": [
    "import numpy as np\n",
    "import collections as collections\n",
    "from sklearn import datasets\n",
    "import graphviz\n",
    "import sklearn.tree\n",
    "from sklearn.cross_validation import train_test_split\n",
    "from sklearn.cross_validation import cross_val_score, cross_val_predict, KFold\n",
    "from sklearn.naive_bayes import BernoulliNB\n",
    "from sklearn import metrics\n",
    "from StringIO import StringIO\n",
    "from pymongo import mongo_client\n",
    "import pickle"
   ]
  },
  {
   "cell_type": "code",
   "execution_count": 47,
   "metadata": {},
   "outputs": [],
   "source": [
    "#Connect to mongodb\n",
    "client = mongo_client.MongoClient('localhost:27017')\n",
    "yelp_db = client.get_database('yelp')\n",
    "business_coll = yelp_db.get_collection('business_projected')\n",
    "\n",
    "#Instantiate list to store rows/objects from mongodb in \n",
    "rows = list()\n",
    "\n",
    "#Define column names and indices\n",
    "cols={ \n",
    "    \"BikeParking\":0, \"BusinessAcceptsBitcoin\":1, \"BusinessAcceptsCreditCards\":2, \"BusinessParking_Garage\":3, \n",
    "    \"BusinessParking_Lot\":4, \"BusinessParking_Street\":5, \"BusinessParking_Valet\":6, \"BusinessParking_validated\":7, \n",
    "    \"DogsAllowed\":8, \"GoodForKids\":9, \"HasTV\":10, \"NoiseLevel\":11, \"Open24Hours\":12, \"OutdoorSeating\":13, \"Smoking\":14, \n",
    "    \"WheelchairAccessible\":15, \"WiFi\":16, \"City\":17, \"Hours_Friday\":18, \"Hours_Monday\":19, \"Hours_Saturday\":20, \n",
    "    \"Hours_Sunday\":21, \"Hours_Thursday\":22, \"Hours_Tuesday\":23, \"Hours_Wednesday\":24, \"PostalCode\":25, \"ReviewCount\":26, \n",
    "    \"State\":27, \"Stars\":28 }\n",
    "\n",
    "#Store target column reference, i.e. Stars\n",
    "targetCol=28\n",
    "\n",
    "#Get all the records from the collection and store them in the list of rows\n",
    "for i in business_coll.find():\n",
    "    row = [None]*len(cols) #values initialized to None - serves as default when values are missing\n",
    "    for key in cols.keys(): \n",
    "        val=i.get(key)\n",
    "        row[cols.get(key)] = val\n",
    "    rows.append(row)"
   ]
  },
  {
   "cell_type": "code",
   "execution_count": 48,
   "metadata": {
    "collapsed": true
   },
   "outputs": [],
   "source": [
    "#Store rows in a numpy array\n",
    "np_records = np.asarray(rows)"
   ]
  },
  {
   "cell_type": "code",
   "execution_count": 49,
   "metadata": {},
   "outputs": [],
   "source": [
    "#Perform label encoding on the dataset\n",
    "from sklearn import preprocessing\n",
    "le = preprocessing.LabelEncoder()\n",
    "for i in range(0, len(cols),1):\n",
    "        l = np_records[:, i]\n",
    "        le.fit(l)\n",
    "        l[:] = le.transform(l)\n",
    "np_records = np_records.astype(long)"
   ]
  },
  {
   "cell_type": "code",
   "execution_count": 50,
   "metadata": {},
   "outputs": [
    {
     "name": "stdout",
     "output_type": "stream",
     "text": [
      "['1.0', '1.5', '2.0', '2.5', '3.0', '3.5', '4.0', '4.5', '5.0']\n"
     ]
    }
   ],
   "source": [
    "#Retrieve the labels for the target column\n",
    "le.inverse_transform(np_records[:,targetCol])\n",
    "targs=list(le.classes_)\n",
    "targs[:]=[str(i) for i in targs]\n",
    "print targs"
   ]
  },
  {
   "cell_type": "code",
   "execution_count": 52,
   "metadata": {
    "collapsed": true
   },
   "outputs": [],
   "source": [
    "#Features matrix\n",
    "x_Matrix = np_records[:, :targetCol]\n",
    "\n",
    "#Target column\n",
    "y = np_records[:, targetCol]\n",
    "\n",
    "#Split dataset into training and test data\n",
    "x_train, x_test, y_train, y_test = train_test_split(x_Matrix, y, test_size=0.2, random_state=0)"
   ]
  },
  {
   "cell_type": "code",
   "execution_count": 53,
   "metadata": {},
   "outputs": [
    {
     "name": "stdout",
     "output_type": "stream",
     "text": [
      "[ 0.20508319  0.20668742  0.20840316  0.20792435  0.20437315]\n",
      "0.208184371808\n",
      "             precision    recall  f1-score   support\n",
      "\n",
      "        1.0       0.06      0.08      0.07       544\n",
      "        1.5       0.04      0.05      0.04       677\n",
      "        2.0       0.08      0.09      0.09      1683\n",
      "        2.5       0.14      0.14      0.14      2835\n",
      "        3.0       0.19      0.19      0.19      4412\n",
      "        3.5       0.22      0.22      0.22      5620\n",
      "        4.0       0.26      0.24      0.25      6428\n",
      "        4.5       0.21      0.20      0.20      4458\n",
      "        5.0       0.30      0.28      0.29      4671\n",
      "\n",
      "avg / total       0.21      0.21      0.21     31328\n",
      "\n"
     ]
    }
   ],
   "source": [
    "### Initiate classifier\n",
    "infoGain_clf = sklearn.tree.DecisionTreeClassifier()\n",
    "\n",
    "#K folds score\n",
    "cross_validator = KFold(x_train.shape[0], 5, shuffle=True, random_state=33)\n",
    "print cross_val_score(infoGain_clf, x_train, y_train, cv=cross_validator)\n",
    "\n",
    "\n",
    "#Fit and evaluate against test set\n",
    "infoGain_clf.fit(x_train, y_train)\n",
    "pred=infoGain_clf.predict(x_test)\n",
    "print infoGain_clf.score(x_test, y_test)\n",
    "\n",
    "\n",
    "#print the classification report\n",
    "print metrics.classification_report(y_test, pred, target_names=targs)"
   ]
  },
  {
   "cell_type": "code",
   "execution_count": 54,
   "metadata": {},
   "outputs": [
    {
     "name": "stdout",
     "output_type": "stream",
     "text": [
      "[ 0.2261102   0.22795467  0.23226399  0.22819408  0.22811428]\n",
      "             precision    recall  f1-score   support\n",
      "\n",
      "        1.0       0.06      0.47      0.11       544\n",
      "        1.5       0.00      0.00      0.00       677\n",
      "        2.0       0.12      0.00      0.00      1683\n",
      "        2.5       0.17      0.04      0.06      2835\n",
      "        3.0       0.22      0.19      0.20      4412\n",
      "        3.5       0.22      0.04      0.06      5620\n",
      "        4.0       0.27      0.53      0.36      6428\n",
      "        4.5       0.00      0.00      0.00      4458\n",
      "        5.0       0.27      0.52      0.35      4671\n",
      "\n",
      "avg / total       0.19      0.23      0.17     31328\n",
      "\n"
     ]
    },
    {
     "name": "stderr",
     "output_type": "stream",
     "text": [
      "C:\\Users\\jflyw\\Anaconda2\\lib\\site-packages\\sklearn\\metrics\\classification.py:1135: UndefinedMetricWarning: Precision and F-score are ill-defined and being set to 0.0 in labels with no predicted samples.\n",
      "  'precision', 'predicted', average, warn_for)\n"
     ]
    }
   ],
   "source": [
    "from sklearn.naive_bayes import BernoulliNB\n",
    "### Initiate classifier\n",
    "nbc = BernoulliNB()\n",
    "\n",
    "#K folds score\n",
    "cross_validator_2 = KFold(x_train.shape[0], 5, shuffle=True, random_state=33)\n",
    "print cross_val_score(nbc, x_train, y_train, cv=cross_validator_2)\n",
    "\n",
    "#Fit and evaluate against test set\n",
    "nbc.fit(x_train, y_train)\n",
    "pred_2=nbc.predict(x_test)\n",
    "print metrics.classification_report(y_test, pred_2, target_names=targs)"
   ]
  },
  {
   "cell_type": "code",
   "execution_count": 60,
   "metadata": {},
   "outputs": [
    {
     "name": "stdout",
     "output_type": "stream",
     "text": [
      "[ 0.23688305  0.24275796  0.24168063  0.23872795  0.2404437 ]\n"
     ]
    },
    {
     "data": {
      "text/plain": [
       "KNeighborsClassifier(algorithm='auto', leaf_size=30, metric='minkowski',\n",
       "           metric_params=None, n_jobs=1, n_neighbors=40, p=2,\n",
       "           weights='uniform')"
      ]
     },
     "execution_count": 60,
     "metadata": {},
     "output_type": "execute_result"
    }
   ],
   "source": [
    "#K-nearest neighbors\n",
    "from sklearn import neighbors\n",
    "knearest = neighbors.KNeighborsClassifier(n_neighbors=40, weights='uniform') # Keep varying k by changing n_neighbors\n",
    "\n",
    "#K folds score\n",
    "cross_validator_knn = KFold(x_train.shape[0], 5, shuffle=True, random_state=33)\n",
    "print cross_val_score(knearest, x_train, y_train, cv=cross_validator_knn)\n",
    "\n",
    "knearest.fit(x_train, y_train)"
   ]
  },
  {
   "cell_type": "code",
   "execution_count": 58,
   "metadata": {},
   "outputs": [],
   "source": [
    "knnPred = knearest.predict(x_test)"
   ]
  },
  {
   "cell_type": "code",
   "execution_count": 59,
   "metadata": {},
   "outputs": [
    {
     "name": "stdout",
     "output_type": "stream",
     "text": [
      "             precision    recall  f1-score   support\n",
      "\n",
      "        1.0       0.11      0.02      0.03       544\n",
      "        1.5       0.03      0.00      0.00       677\n",
      "        2.0       0.10      0.02      0.04      1683\n",
      "        2.5       0.14      0.06      0.09      2835\n",
      "        3.0       0.20      0.21      0.21      4412\n",
      "        3.5       0.22      0.29      0.25      5620\n",
      "        4.0       0.26      0.32      0.29      6428\n",
      "        4.5       0.22      0.12      0.15      4458\n",
      "        5.0       0.32      0.50      0.39      4671\n",
      "\n",
      "avg / total       0.22      0.25      0.22     31328\n",
      "\n"
     ]
    }
   ],
   "source": [
    "print metrics.classification_report(y_test, knnPred, target_names=targs)"
   ]
  },
  {
   "cell_type": "code",
   "execution_count": null,
   "metadata": {
    "collapsed": true
   },
   "outputs": [],
   "source": []
  }
 ],
 "metadata": {
  "kernelspec": {
   "display_name": "Python 2",
   "language": "python",
   "name": "python2"
  },
  "language_info": {
   "codemirror_mode": {
    "name": "ipython",
    "version": 2
   },
   "file_extension": ".py",
   "mimetype": "text/x-python",
   "name": "python",
   "nbconvert_exporter": "python",
   "pygments_lexer": "ipython2",
   "version": "2.7.13"
  }
 },
 "nbformat": 4,
 "nbformat_minor": 2
}
