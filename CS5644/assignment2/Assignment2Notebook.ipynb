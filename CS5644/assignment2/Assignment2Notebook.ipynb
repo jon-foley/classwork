{
 "cells": [
  {
   "cell_type": "code",
   "execution_count": 46,
   "metadata": {},
   "outputs": [],
   "source": [
    "import numpy as np\n",
    "import collections as collections\n",
    "from sklearn import datasets\n",
    "import graphviz\n",
    "import sklearn.tree\n",
    "from sklearn.cross_validation import train_test_split\n",
    "from sklearn.cross_validation import cross_val_score, cross_val_predict, KFold\n",
    "from sklearn.naive_bayes import BernoulliNB\n",
    "from sklearn import metrics\n",
    "from StringIO import StringIO"
   ]
  },
  {
   "cell_type": "code",
   "execution_count": 47,
   "metadata": {
    "collapsed": true,
    "scrolled": true
   },
   "outputs": [],
   "source": [
    "#Name of CSV file containing the data\n",
    "filename = \"house-votes-84.data.txt\"\n",
    "\n",
    "#Names of the columns\n",
    "colnames = \"Class Name,handicapped-infants,water-project-cost-sharing,adoption-of-the-budget-resolution,\\\n",
    "physician-fee-freeze,el-salvador-aid,religious-groups-in-schools,anti-satellite-test-ban,aid-to-nicaraguan-contras,\\\n",
    "mx-missile,immigration,synfuels-corporation-cutback,education-spending,superfund-right-to-sue,\\\n",
    "crime,duty-free-exports,export-administration-act-south-africa\"\n",
    "\n",
    "#Array of column names\n",
    "colarr = colnames.split(\",\")\n",
    "\n",
    "#Feature names\n",
    "feature_names = np.array(colarr[1:])\n",
    "\n",
    "#Target names\n",
    "target_names = ['republican', 'democrat']\n",
    "\n",
    "#Gets the raw data from the CSV and return a list of instances loaded into arrays\n",
    "def _rawList():\n",
    "    rows = list()\n",
    "    #Iterate over the CSV line by line\n",
    "    with open(filename) as f:\n",
    "        for line in f:\n",
    "            arr=line.strip().split(\",\")#split line into array\n",
    "            rows.append(arr)\n",
    "    return rows\n",
    "\n",
    "#Store the rawList() output\n",
    "_rawListOutput = _rawList()\n",
    "\n",
    "#Gets the raw data as a numpy array\n",
    "def _rawData():\n",
    "    return np.asarray(_rawListOutput)\n",
    "\n",
    "#Replace the missing values with the most frequent value for the corresponding feature\n",
    "#Return the updated numpy array\n",
    "def _replaceMissing():\n",
    "    #get the unaltered numpy array \n",
    "    d = _rawData()\n",
    "    #Replace missing values for all features (excluding target) with most frequent value\n",
    "    for i in range(1, len(colarr)-1,1):\n",
    "        l = d[:, i] #get column\n",
    "        counted = collections.Counter(l) #get frequency of each value in column\n",
    "        #remove the missing ('?') key from the frequency dictionary\n",
    "        counted = {k: v for k, v in counted.iteritems() if v != '?'}\n",
    "        #Get the key with the greatest frequency\n",
    "        maxValue = max(counted, key=counted.get)\n",
    "        #Replace the missing value in the column with the most frequent\n",
    "        l[:] = [x if x != '?' else maxValue for x in l]\n",
    "    return d #return updated numpy array\n",
    "\n",
    "#Remove instances containing missing values\n",
    "#Return the updated numpy array\n",
    "def _excludeData():\n",
    "    rows = _rawListOutput\n",
    "    return np.asarray([elem for elem in rows if '?' not in elem])\n",
    "\n",
    "#Converts values to binary and changes numpyarray to type int\n",
    "def _toBinary(npa):\n",
    "    binaryDict = {'republican':0, 'democrat':1, 'y':1, 'n':0, '?':2}\n",
    "    for i in range(0, len(colarr),1):\n",
    "        l = npa[:, i]\n",
    "        l[:] = [binaryDict[x] for x in l]\n",
    "    return npa.astype(int)"
   ]
  },
  {
   "cell_type": "markdown",
   "metadata": {},
   "source": [
    "<h1>Scenario 1 - Raw Tree</h1>"
   ]
  },
  {
   "cell_type": "code",
   "execution_count": 48,
   "metadata": {},
   "outputs": [
    {
     "name": "stdout",
     "output_type": "stream",
     "text": [
      "[ 0.88571429  0.9         0.88571429  0.94202899  0.94202899]\n",
      "             precision    recall  f1-score   support\n",
      "\n",
      " republican       0.94      0.94      0.94        35\n",
      "   democrat       0.96      0.96      0.96        52\n",
      "\n",
      "avg / total       0.95      0.95      0.95        87\n",
      "\n"
     ]
    }
   ],
   "source": [
    "#Scenario 1 dataset - treats missing/? as if it is a value\n",
    "s1Data = _toBinary(_rawData())\n",
    "\n",
    "#Features matrix\n",
    "s1X_Matrix = s1Data[:, 1:]\n",
    "\n",
    "#Target column\n",
    "s1Y = s1Data[:, :1]\n",
    "\n",
    "#Split dataset into training and test data\n",
    "s1X_train, s1X_test, s1y_train, s1y_test = train_test_split(s1X_Matrix, s1Y, test_size=0.2, random_state=0)\n",
    "\n",
    "### Initiate classifier\n",
    "s1InfoGain_clf = sklearn.tree.DecisionTreeClassifier(criterion='entropy')\n",
    "\n",
    "#K folds score\n",
    "s1Cv = KFold(s1X_train.shape[0], 5, shuffle=True, random_state=33)\n",
    "print cross_val_score(s1InfoGain_clf, s1X_train, s1y_train, cv=s1Cv)\n",
    "\n",
    "#Fit and evaluate against test set\n",
    "s1InfoGain_clf.fit(s1X_train, s1y_train)\n",
    "s1pred=s1InfoGain_clf.predict(s1X_test)\n",
    "print metrics.classification_report(s1y_test, s1pred, target_names=target_names)"
   ]
  },
  {
   "cell_type": "markdown",
   "metadata": {
    "collapsed": true
   },
   "source": [
    "<h1>Scenario 2 - Exclude Missing Tree</h1>"
   ]
  },
  {
   "cell_type": "code",
   "execution_count": 49,
   "metadata": {},
   "outputs": [
    {
     "name": "stdout",
     "output_type": "stream",
     "text": [
      "[ 0.97297297  0.97297297  0.97297297  1.          1.        ]\n",
      "             precision    recall  f1-score   support\n",
      "\n",
      " republican       0.92      0.92      0.92        24\n",
      "   democrat       0.91      0.91      0.91        23\n",
      "\n",
      "avg / total       0.91      0.91      0.91        47\n",
      "\n"
     ]
    }
   ],
   "source": [
    "#Scenario 2 dataset - exclude instances where features have missing values\n",
    "s2Data = _toBinary(_excludeData())\n",
    "\n",
    "#Features matrix\n",
    "s2X_Matrix = s2Data[:, 1:]\n",
    "\n",
    "#Target column\n",
    "s2Y = s2Data[:, :1]\n",
    "\n",
    "#Split dataset into training and test data\n",
    "s2X_train, s2X_test, s2y_train, s2y_test = train_test_split(s2X_Matrix, s2Y, test_size=0.2, random_state=0)\n",
    "\n",
    "### Initiate classifier\n",
    "s2InfoGain_clf = sklearn.tree.DecisionTreeClassifier(criterion='entropy')\n",
    "\n",
    "#K folds score\n",
    "s2Cv = KFold(s2X_train.shape[0], 5, shuffle=True, random_state=33)\n",
    "print cross_val_score(s2InfoGain_clf, s2X_train, s2y_train, cv=s2Cv)\n",
    "\n",
    "#Fit and evaluate against test set\n",
    "s2InfoGain_clf.fit(s2X_train, s2y_train)\n",
    "s2pred=s2InfoGain_clf.predict(s2X_test)\n",
    "print metrics.classification_report(s2y_test, s2pred, target_names=target_names)"
   ]
  },
  {
   "cell_type": "markdown",
   "metadata": {},
   "source": [
    "<h1>Scenario 3 - Replace Missing Tree</h1>"
   ]
  },
  {
   "cell_type": "code",
   "execution_count": 50,
   "metadata": {},
   "outputs": [
    {
     "name": "stdout",
     "output_type": "stream",
     "text": [
      "[ 0.94285714  0.98571429  0.94285714  0.91304348  0.95652174]\n",
      "             precision    recall  f1-score   support\n",
      "\n",
      " republican       0.89      0.94      0.92        35\n",
      "   democrat       0.96      0.92      0.94        52\n",
      "\n",
      "avg / total       0.93      0.93      0.93        87\n",
      "\n"
     ]
    }
   ],
   "source": [
    "#Scenario 3 dataset - impute missing values\n",
    "s3Data = _toBinary(_replaceMissing())\n",
    "\n",
    "#Features matrix\n",
    "s3X_Matrix = s3Data[:, 1:]\n",
    "\n",
    "#Target column\n",
    "s3Y = s3Data[:, :1]\n",
    "\n",
    "#Split dataset into training and test data\n",
    "s3X_train, s3X_test, s3y_train, s3y_test = train_test_split(s3X_Matrix, s3Y, test_size=0.2, random_state=0)\n",
    "\n",
    "### Initiate classifier\n",
    "s3InfoGain_clf = sklearn.tree.DecisionTreeClassifier(criterion='entropy')\n",
    "\n",
    "#K folds score\n",
    "s3Cv = KFold(s3X_train.shape[0], 5, shuffle=True, random_state=33)\n",
    "print cross_val_score(s3InfoGain_clf, s3X_train, s3y_train, cv=s3Cv)\n",
    "\n",
    "#Fit and evaluate against test set\n",
    "s3InfoGain_clf.fit(s3X_train, s3y_train)\n",
    "s3pred=s3InfoGain_clf.predict(s3X_test)\n",
    "print metrics.classification_report(s3y_test, s3pred, target_names=target_names)"
   ]
  },
  {
   "cell_type": "markdown",
   "metadata": {},
   "source": [
    "<h1>Scenario 4 - Raw NBC</h1>"
   ]
  },
  {
   "cell_type": "code",
   "execution_count": 51,
   "metadata": {},
   "outputs": [
    {
     "name": "stdout",
     "output_type": "stream",
     "text": [
      "[ 0.88571429  0.94285714  0.9         0.92753623  0.86956522]\n",
      "             precision    recall  f1-score   support\n",
      "\n",
      " republican       0.79      0.94      0.86        35\n",
      "   democrat       0.96      0.83      0.89        52\n",
      "\n",
      "avg / total       0.89      0.87      0.87        87\n",
      "\n"
     ]
    }
   ],
   "source": [
    "#Scenario 4 dataset - treats missing/? as if it is a value\n",
    "s4Data = _toBinary(_rawData())\n",
    "\n",
    "#Features matrix\n",
    "s4X_Matrix = s4Data[:, 1:]\n",
    "\n",
    "#Target column\n",
    "s4Y = s4Data[:, :1]\n",
    "\n",
    "#Split dataset into training and test data\n",
    "s4X_train, s4X_test, s4y_train, s4y_test = train_test_split(s4X_Matrix, s4Y, test_size=0.2, random_state=0)\n",
    "\n",
    "### Initiate classifier\n",
    "s4NBClassifier = BernoulliNB()\n",
    "\n",
    "#K folds score\n",
    "s4Cv = KFold(s4X_train.shape[0], 5, shuffle=True, random_state=33)\n",
    "print cross_val_score(s4NBClassifier, s4X_train, s4y_train, cv=s4Cv)\n",
    "\n",
    "#Fit and evaluate against test set\n",
    "s4NBClassifier.fit(s4X_train, s4y_train)\n",
    "s4pred=s4NBClassifier.predict(s4X_test)\n",
    "print metrics.classification_report(s4y_test, s4pred, target_names=target_names)"
   ]
  },
  {
   "cell_type": "markdown",
   "metadata": {},
   "source": [
    "<h1>Scenario 5 - Exlude Missing NBC</h1>"
   ]
  },
  {
   "cell_type": "code",
   "execution_count": 52,
   "metadata": {},
   "outputs": [
    {
     "name": "stdout",
     "output_type": "stream",
     "text": [
      "[ 1.          0.91891892  0.86486486  0.94594595  0.86486486]\n",
      "             precision    recall  f1-score   support\n",
      "\n",
      " republican       0.96      0.92      0.94        24\n",
      "   democrat       0.92      0.96      0.94        23\n",
      "\n",
      "avg / total       0.94      0.94      0.94        47\n",
      "\n"
     ]
    }
   ],
   "source": [
    "#Scenario 5 dataset - exclude instances where features have missing values\n",
    "s5Data = _toBinary(_excludeData())\n",
    "\n",
    "#Features matrix\n",
    "s5X_Matrix = s5Data[:, 1:]\n",
    "\n",
    "#Target column\n",
    "s5Y = s5Data[:, :1]\n",
    "\n",
    "#Split dataset into training and test data\n",
    "s5X_train, s5X_test, s5y_train, s5y_test = train_test_split(s5X_Matrix, s5Y, test_size=0.2, random_state=0)\n",
    "\n",
    "### Initiate classifier\n",
    "s5NBClassifier = BernoulliNB()\n",
    "\n",
    "#K folds score\n",
    "s5Cv = KFold(s5X_train.shape[0], 5, shuffle=True, random_state=33)\n",
    "print cross_val_score(s5NBClassifier, s5X_train, s5y_train, cv=s5Cv)\n",
    "\n",
    "#Fit and evaluate against test set\n",
    "s5NBClassifier.fit(s5X_train, s5y_train)\n",
    "s5pred=s5NBClassifier.predict(s5X_test)\n",
    "print metrics.classification_report(s5y_test, s5pred, target_names=target_names)"
   ]
  },
  {
   "cell_type": "markdown",
   "metadata": {},
   "source": [
    "<h1>Scenario 6 - Replace Missing NBC</h1>"
   ]
  },
  {
   "cell_type": "code",
   "execution_count": 53,
   "metadata": {},
   "outputs": [
    {
     "name": "stdout",
     "output_type": "stream",
     "text": [
      "[ 0.9         0.94285714  0.88571429  0.92753623  0.86956522]\n",
      "             precision    recall  f1-score   support\n",
      "\n",
      " republican       0.80      0.94      0.87        35\n",
      "   democrat       0.96      0.85      0.90        52\n",
      "\n",
      "avg / total       0.90      0.89      0.89        87\n",
      "\n"
     ]
    }
   ],
   "source": [
    "#Scenario 6 dataset - impute missing values\n",
    "s6Data = _toBinary(_replaceMissing())\n",
    "\n",
    "#Features matrix\n",
    "s6X_Matrix = s6Data[:, 1:]\n",
    "\n",
    "#Target column\n",
    "s6Y = s6Data[:, :1]\n",
    "\n",
    "#Split dataset into training and test data\n",
    "s6X_train, s6X_test, s6y_train, s6y_test = train_test_split(s6X_Matrix, s6Y, test_size=0.2, random_state=0)\n",
    "\n",
    "### Initiate classifier\n",
    "s6NBClassifier = BernoulliNB()\n",
    "\n",
    "#K folds score\n",
    "s6Cv = KFold(s6X_train.shape[0], 5, shuffle=True, random_state=33)\n",
    "print cross_val_score(s6NBClassifier, s6X_train, s6y_train, cv=s6Cv)\n",
    "\n",
    "#Fit and evaluate against test set\n",
    "s6NBClassifier.fit(s6X_train, s6y_train)\n",
    "s6pred=s6NBClassifier.predict(s6X_test)\n",
    "print metrics.classification_report(s6y_test, s6pred, target_names=target_names)"
   ]
  },
  {
   "cell_type": "code",
   "execution_count": null,
   "metadata": {
    "collapsed": true
   },
   "outputs": [],
   "source": []
  }
 ],
 "metadata": {
  "kernelspec": {
   "display_name": "Python 2",
   "language": "python",
   "name": "python2"
  },
  "language_info": {
   "codemirror_mode": {
    "name": "ipython",
    "version": 2
   },
   "file_extension": ".py",
   "mimetype": "text/x-python",
   "name": "python",
   "nbconvert_exporter": "python",
   "pygments_lexer": "ipython2",
   "version": "2.7.13"
  }
 },
 "nbformat": 4,
 "nbformat_minor": 2
}
